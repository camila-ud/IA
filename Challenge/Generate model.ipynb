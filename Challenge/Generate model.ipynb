{
 "cells": [
  {
   "cell_type": "code",
   "execution_count": null,
   "metadata": {},
   "outputs": [],
   "source": [
    "## -  Neural Network model"
   ]
  },
  {
   "cell_type": "code",
   "execution_count": null,
   "metadata": {},
   "outputs": [],
   "source": [
    "from sklearn.neural_network import MLPClassifier\n",
    "\n",
    "### Now you have to train a classifier using supervised learning and evaluate it's performance. \n",
    "#Split dataset\n",
    "\n",
    "x_train, x_test, y_train, y_test = train_test_split(x[:,:], y[:], test_size=0.20, random_state=1)\n",
    "\n",
    "clf = MLPClassifier(verbose = 1)\n",
    "clf.fit(x_train,y_train)\n",
    "print(clf.score(x_train,y_train),clf.score(x_test,y_test))"
   ]
  },
  {
   "cell_type": "code",
   "execution_count": null,
   "metadata": {},
   "outputs": [],
   "source": [
    "from sklearn.metrics import classification_report,confusion_matrix\n",
    "y_pred_train = clf.predict(x_train)\n",
    "report = classification_report(y_true=y_train,y_pred=y_pred_train)\n",
    "\n",
    "print(\"Train Set:\")\n",
    "print(report)\n",
    "\n",
    "\n",
    "y_pred_test = clf.predict(x_test)\n",
    "report = classification_report(y_true=y_test,y_pred=y_pred_test)\n",
    "\n",
    "print(\"Test Set:\")\n",
    "print(report)\n"
   ]
  },
  {
   "cell_type": "code",
   "execution_count": null,
   "metadata": {},
   "outputs": [],
   "source": [
    "### Let's assume you have named your classifier clf . You can save the trained object using the joblib.dump method, as follows: \n",
    "\n",
    "import pickle\n",
    "from sklearn.externals import joblib\n",
    "\n",
    "joblib.dump(clf, 'mlp_classifier_moves.pkl') \n",
    "\n",
    "# Test in pyrat\n",
    "## Now you can use the supervised.py file as an AI directly in Pyrat. \n"
   ]
  }
 ],
 "metadata": {
  "kernelspec": {
   "display_name": "Python [default]",
   "language": "python",
   "name": "python3"
  },
  "language_info": {
   "codemirror_mode": {
    "name": "ipython",
    "version": 3
   },
   "file_extension": ".py",
   "mimetype": "text/x-python",
   "name": "python",
   "nbconvert_exporter": "python",
   "pygments_lexer": "ipython3",
   "version": "3.6.4"
  }
 },
 "nbformat": 4,
 "nbformat_minor": 2
}
