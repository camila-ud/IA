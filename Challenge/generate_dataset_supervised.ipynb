{
 "cells": [
  {
   "cell_type": "markdown",
   "metadata": {},
   "source": [
    "# Test supervised pyrat "
   ]
  },
  {
   "cell_type": "markdown",
   "metadata": {},
   "source": [
    "1. Generate data in terminal PyRat: \n",
    "\n",
    "python3 pyrat.py -p 40 -md 0 -d 0 --nonsymmetric --rat AIs/manh.py --python AIs/manh.py --tests 1000 --nodrawing --synchronous --save"
   ]
  },
  {
   "cell_type": "code",
   "execution_count": 1,
   "metadata": {},
   "outputs": [],
   "source": [
    "# The tqdm package is useful to visualize progress with long computations. \n",
    "# Install it using pip \n",
    "import tqdm\n",
    "\n",
    "import numpy as np\n",
    "import ast\n",
    "import os"
   ]
  },
  {
   "cell_type": "markdown",
   "metadata": {},
   "source": [
    "2. Generate Dataset \n"
   ]
  },
  {
   "cell_type": "code",
   "execution_count": 1,
   "metadata": {},
   "outputs": [],
   "source": [
    "import scipy\n",
    "import scipy.sparse\n",
    "\n",
    "PHRASES = {\n",
    "    \"# Random seed\\n\": \"seed\",\n",
    "    \"# MazeMap\\n\": \"maze\",\n",
    "    \"# Pieces of cheese\\n\": \"pieces\"    ,\n",
    "    \"# Rat initial location\\n\": \"rat\"    ,\n",
    "    \"# Python initial location\\n\": \"python\"   , \n",
    "    \"rat_location then python_location then pieces_of_cheese then rat_decision then python_decision\\n\": \"play\"\n",
    "}\n",
    "\n",
    "MOVE_DOWN = 'D'\n",
    "MOVE_LEFT = 'L'\n",
    "MOVE_RIGHT = 'R'\n",
    "MOVE_UP = 'U'\n",
    "\n",
    "translate_action = {\n",
    "    MOVE_LEFT:0,\n",
    "    MOVE_RIGHT:1,\n",
    "    MOVE_UP:2,\n",
    "    MOVE_DOWN:3\n",
    "}# This data structures defines the encoding of the four possible movements\n",
    "\n",
    "def process_file_2(filename):\n",
    "    f = open(filename,\"r\")    \n",
    "    info = f.readline()\n",
    "    params = dict(play=list())\n",
    "    while info is not None:\n",
    "        if info.startswith(\"{\"):\n",
    "            params[\"end\"] = ast.literal_eval(info)\n",
    "            break\n",
    "        if \"turn \" in info:\n",
    "            info = info[info.find('rat_location'):]\n",
    "        if info in PHRASES.keys():\n",
    "            param = PHRASES[info]\n",
    "            if param == \"play\":\n",
    "                rat = ast.literal_eval(f.readline())\n",
    "                python = ast.literal_eval(f.readline())\n",
    "                pieces = ast.literal_eval(f.readline())\n",
    "                rat_decision = f.readline().replace(\"\\n\",\"\")\n",
    "                python_decision = f.readline().replace(\"\\n\",\"\")\n",
    "                play_dict = dict(\n",
    "                    rat=rat,python=python,piecesOfCheese=pieces,\n",
    "                    rat_decision=rat_decision,python_decision=python_decision)\n",
    "                params[param].append(play_dict)\n",
    "            else:\n",
    "                params[param] = ast.literal_eval(f.readline())\n",
    "        else:\n",
    "            print(\"did not understand:\", info)\n",
    "            break\n",
    "        info = f.readline()\n",
    "    return params\n",
    "\n",
    "def dict_to_x_y(end,rat, python, maze, piecesOfCheese,rat_decision,python_decision,\n",
    "                mazeWidth=21, mazeHeight=15):\n",
    "    # We only use the winner\n",
    "    if end[\"win_python\"] == 1: \n",
    "        player = python\n",
    "        opponent = rat        \n",
    "        decision = python_decision\n",
    "    elif end[\"win_rat\"] == 1:\n",
    "        player = rat\n",
    "        opponent = python        \n",
    "        decision = rat_decision\n",
    "    else:\n",
    "        return False\n",
    "    if decision == \"None\" or decision == \"\": #No play\n",
    "        return False\n",
    "    x_1 = convert_input_2(player, maze, opponent, mazeHeight, mazeWidth, piecesOfCheese)\n",
    "    y = np.zeros((1,4),dtype=np.int8)\n",
    "    y[0][translate_action[decision]] = 1\n",
    "    return x_1,y"
   ]
  },
  {
   "cell_type": "code",
   "execution_count": 2,
   "metadata": {},
   "outputs": [],
   "source": [
    "# center in player"
   ]
  },
  {
   "cell_type": "code",
   "execution_count": 3,
   "metadata": {},
   "outputs": [],
   "source": [
    "### The goal of this function is to create a canvas, which will be the vector used to train the classifier. \n",
    "### As we want to predict a next move, we will create a canvas that is centered on the player, so that we can easily with the translation invariance. \n",
    "\n",
    "\n",
    "def convert_input_2(player, maze, opponent, mazeHeight, mazeWidth, piecesOfCheese):\n",
    "\t# We will consider twice the size of the maze to simplify the creation of the canvas \n",
    "\t# The canvas is initialized as a numpy tensor with 3 modes (meaning it is indexed using three integers), the third one corresponding to \"layers\" of the canvas. \n",
    "\t# Here, we just use one layer, but you can defined other ones to put more information on the play (e.g. the location of the opponent could be put in a second layer)\n",
    "\n",
    "    im_size = (2*mazeHeight-1,2*mazeWidth-1,1)\n",
    "\n",
    "    # We initialize a canvas with only zeros\n",
    "    canvas = np.zeros(im_size)\n",
    "\n",
    "\n",
    "    (x,y) = player\n",
    "    (x_op,y_op) = opponent\n",
    "\n",
    "    # fill in the first layer of the canvas with the value 1 at the location of the cheeses, relative to the position of the player (i.e. the canvas is centered on the player location)\n",
    "    center_x, center_y = mazeWidth-1, mazeHeight-1\n",
    "    for (x_cheese,y_cheese) in piecesOfCheese:\n",
    "        canvas[y_cheese+center_y-y,x_cheese+center_x-x,0] = 1\n",
    "    \n",
    "    return canvas\n"
   ]
  },
  {
   "cell_type": "code",
   "execution_count": 6,
   "metadata": {},
   "outputs": [
    {
     "name": "stderr",
     "output_type": "stream",
     "text": [
      "100%|██████████| 1000/1000 [00:28<00:00, 34.50it/s]\n",
      "100%|██████████| 1000/1000 [00:17<00:00, 57.62it/s]"
     ]
    },
    {
     "name": "stdout",
     "output_type": "stream",
     "text": [
      "Greedy/Draw/Greedy, 435/127/438\n"
     ]
    },
    {
     "name": "stderr",
     "output_type": "stream",
     "text": [
      "\n"
     ]
    }
   ],
   "source": [
    "games = list()\n",
    "directory = \"/home/brain/IA/PyRat/saves/\"\n",
    "for root, dirs, files in os.walk(directory):\n",
    "    for filename in tqdm.tqdm(files):\n",
    "        if filename.startswith(\".\"):\n",
    "            continue\n",
    "        game_params = process_file_2(directory+filename)\n",
    "        games.append(game_params)\n",
    "\n",
    "x_1_train = list()\n",
    "y_train = list()\n",
    "wins_python = 0\n",
    "wins_rat = 0\n",
    "for game in tqdm.tqdm(games):\n",
    "    if game[\"end\"][\"win_python\"] == 1: \n",
    "        wins_python += 1\n",
    "    elif game[\"end\"][\"win_rat\"] == 1:\n",
    "        wins_rat += 1\n",
    "    else:\n",
    "        continue\n",
    "    plays = game[\"play\"]\n",
    "    for play in plays:\n",
    "        x_y = dict_to_x_y(**play,maze=game_params[\"maze\"],end=game[\"end\"])\n",
    "        if x_y:\n",
    "            x1, y = x_y\n",
    "            y_train.append(scipy.sparse.csr_matrix(y.reshape(1,-1)))\n",
    "            x_1_train.append(scipy.sparse.csr_matrix(x1.reshape(1,-1)))\n",
    "print(\"Greedy/Draw/Greedy, {}/{}/{}\".format(wins_rat,1000 - wins_python - wins_rat, wins_python)) "
   ]
  },
  {
   "cell_type": "code",
   "execution_count": 7,
   "metadata": {},
   "outputs": [],
   "source": [
    "# dataset moves\n",
    "np.savez_compressed(\"dataset_challenge_moves_supervised.npz\",x=x_1_train,y=y_train)\n",
    "del x_1_train\n",
    "del y_train"
   ]
  },
  {
   "cell_type": "markdown",
   "metadata": {},
   "source": [
    "# LOAD DATASET"
   ]
  },
  {
   "cell_type": "code",
   "execution_count": 2,
   "metadata": {},
   "outputs": [],
   "source": [
    "from sklearn.model_selection import train_test_split\n",
    "\n",
    "### This cell reloads the pyrat_dataset that was stored as a pkl file by the generate dataset script. \n",
    "\n",
    "mazeWidth = 21\n",
    "mazeHeight = 15\n",
    "\n",
    "import pickle, scipy\n",
    "\n",
    "x = np.load(\"dataset_challenge_moves_supervised.npz\")['x']\n",
    "y = np.load(\"dataset_challenge_moves_supervised.npz\")['y']\n",
    "\n",
    "x = scipy.sparse.vstack(x)\n",
    "\n",
    "## The dataset was stored using scipy sparse arrays, because the matrices contain mostly zeros. In case you wish to use \n",
    "## supervised learning techniques that don't accept sparse matrices, you have to convert x into a dense array and reshape it accordingly\n",
    "#x = x.todense()\n",
    "#x = np.array(x).reshape(-1,(2*mazeHeight-1)*(2*mazeWidth-1))\n",
    "\n",
    "y = scipy.sparse.vstack(y).todense()\n",
    "y = np.argmax(np.array(y),1)"
   ]
  },
  {
   "cell_type": "code",
   "execution_count": 3,
   "metadata": {
    "scrolled": true
   },
   "outputs": [
    {
     "name": "stdout",
     "output_type": "stream",
     "text": [
      "(59461, 1189) (59461,)\n"
     ]
    }
   ],
   "source": [
    "print(x.shape, y.shape)"
   ]
  },
  {
   "cell_type": "markdown",
   "metadata": {},
   "source": [
    "## -  Neural Network model"
   ]
  },
  {
   "cell_type": "code",
   "execution_count": 4,
   "metadata": {
    "scrolled": true
   },
   "outputs": [
    {
     "name": "stdout",
     "output_type": "stream",
     "text": [
      "Iteration 1, loss = 0.70050588\n",
      "Iteration 2, loss = 0.33514963\n",
      "Iteration 3, loss = 0.28882734\n",
      "Iteration 4, loss = 0.25451072\n",
      "Iteration 5, loss = 0.22029610\n",
      "Iteration 6, loss = 0.18725086\n",
      "Iteration 7, loss = 0.15867774\n",
      "Iteration 8, loss = 0.13337113\n",
      "Iteration 9, loss = 0.11273966\n",
      "Iteration 10, loss = 0.09548549\n",
      "Iteration 11, loss = 0.08175348\n",
      "Iteration 12, loss = 0.06883169\n",
      "Iteration 13, loss = 0.05904687\n",
      "Iteration 14, loss = 0.05101111\n",
      "Iteration 15, loss = 0.04392624\n",
      "Iteration 16, loss = 0.03791595\n",
      "Iteration 17, loss = 0.03277547\n",
      "Iteration 18, loss = 0.02876997\n",
      "Iteration 19, loss = 0.02495931\n",
      "Iteration 20, loss = 0.02162421\n",
      "Iteration 21, loss = 0.01893362\n",
      "Iteration 22, loss = 0.01692840\n",
      "Iteration 23, loss = 0.01503397\n",
      "Iteration 24, loss = 0.01309802\n",
      "Iteration 25, loss = 0.01156308\n",
      "Iteration 26, loss = 0.01029894\n",
      "Iteration 27, loss = 0.00903473\n",
      "Iteration 28, loss = 0.00813626\n",
      "Iteration 29, loss = 0.00744220\n",
      "Iteration 30, loss = 0.00705562\n",
      "Iteration 31, loss = 0.00589657\n",
      "Iteration 32, loss = 0.00540373\n",
      "Iteration 33, loss = 0.00494913\n",
      "Iteration 34, loss = 0.00470128\n",
      "Iteration 35, loss = 0.00382151\n",
      "Iteration 36, loss = 0.00362860\n",
      "Iteration 37, loss = 0.00328269\n",
      "Iteration 38, loss = 0.00957315\n",
      "Iteration 39, loss = 0.02537192\n",
      "Iteration 40, loss = 0.00958159\n",
      "Training loss did not improve more than tol=0.000100 for two consecutive epochs. Stopping.\n",
      "0.9996426168853011 0.9215504918859834\n"
     ]
    }
   ],
   "source": [
    "from sklearn.neural_network import MLPClassifier\n",
    "\n",
    "### Now you have to train a classifier using supervised learning and evaluate it's performance. \n",
    "#Split dataset\n",
    "\n",
    "x_train, x_test, y_train, y_test = train_test_split(x[:,:], y[:], test_size=0.20, random_state=1)\n",
    "\n",
    "clf = MLPClassifier(verbose = 1)\n",
    "clf.fit(x_train,y_train)\n",
    "print(clf.score(x_train,y_train),clf.score(x_test,y_test))"
   ]
  },
  {
   "cell_type": "markdown",
   "metadata": {},
   "source": [
    "### report model "
   ]
  },
  {
   "cell_type": "code",
   "execution_count": 5,
   "metadata": {},
   "outputs": [
    {
     "name": "stdout",
     "output_type": "stream",
     "text": [
      "Train Set:\n",
      "             precision    recall  f1-score   support\n",
      "\n",
      "          0       1.00      1.00      1.00     12765\n",
      "          1       1.00      1.00      1.00     12414\n",
      "          2       1.00      1.00      1.00     11142\n",
      "          3       1.00      1.00      1.00     11247\n",
      "\n",
      "avg / total       1.00      1.00      1.00     47568\n",
      "\n",
      "Test Set:\n",
      "             precision    recall  f1-score   support\n",
      "\n",
      "          0       0.92      0.91      0.91      3175\n",
      "          1       0.91      0.90      0.90      3102\n",
      "          2       0.94      0.94      0.94      2840\n",
      "          3       0.93      0.94      0.93      2776\n",
      "\n",
      "avg / total       0.92      0.92      0.92     11893\n",
      "\n"
     ]
    }
   ],
   "source": [
    "from sklearn.metrics import classification_report,confusion_matrix\n",
    "y_pred_train = clf.predict(x_train)\n",
    "report = classification_report(y_true=y_train,y_pred=y_pred_train)\n",
    "\n",
    "print(\"Train Set:\")\n",
    "print(report)\n",
    "\n",
    "\n",
    "y_pred_test = clf.predict(x_test)\n",
    "report = classification_report(y_true=y_test,y_pred=y_pred_test)\n",
    "\n",
    "print(\"Test Set:\")\n",
    "print(report)\n"
   ]
  },
  {
   "cell_type": "markdown",
   "metadata": {},
   "source": [
    "### save model "
   ]
  },
  {
   "cell_type": "code",
   "execution_count": 6,
   "metadata": {},
   "outputs": [
    {
     "data": {
      "text/plain": [
       "['mlp_classifier_moves.pkl']"
      ]
     },
     "execution_count": 6,
     "metadata": {},
     "output_type": "execute_result"
    }
   ],
   "source": [
    "### Let's assume you have named your classifier clf . You can save the trained object using the joblib.dump method, as follows: \n",
    "\n",
    "import pickle\n",
    "from sklearn.externals import joblib\n",
    "\n",
    "joblib.dump(clf, 'mlp_classifier_moves.pkl') \n",
    "\n",
    "# Test in pyrat\n",
    "## Now you can use the supervised.py file as an AI directly in Pyrat. \n"
   ]
  },
  {
   "cell_type": "markdown",
   "metadata": {},
   "source": [
    "All you have to do is copy the mlp_classifier_moves.pkl to the **pyrat folder** and supervised.py to the **pyrat AIs subfolder** to test how the trained classifier performs while playing !"
   ]
  },
  {
   "cell_type": "code",
   "execution_count": null,
   "metadata": {},
   "outputs": [],
   "source": [
    "from sklearn.manifold import TSNE\n",
    "unsup = TSNE(random_state = 0)\n",
    "examples = unsup.fit_transform(x.todense())\n",
    "plt.scatter(examples[:,0],examples[:,1],c=y)\n",
    "plt.colorbar()"
   ]
  }
 ],
 "metadata": {
  "kernelspec": {
   "display_name": "Python [default]",
   "language": "python",
   "name": "python3"
  },
  "language_info": {
   "codemirror_mode": {
    "name": "ipython",
    "version": 3
   },
   "file_extension": ".py",
   "mimetype": "text/x-python",
   "name": "python",
   "nbconvert_exporter": "python",
   "pygments_lexer": "ipython3",
   "version": "3.6.4"
  }
 },
 "nbformat": 4,
 "nbformat_minor": 2
}
